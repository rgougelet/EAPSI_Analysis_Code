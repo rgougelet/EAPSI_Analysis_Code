{
 "cells": [
  {
   "cell_type": "code",
   "execution_count": 38,
   "metadata": {
    "collapsed": false
   },
   "outputs": [],
   "source": [
    "import os\n",
    "import glob\n",
    "import fnmatch\n",
    "import os\n",
    "\n",
    "txtfiles = []\n",
    "for root, dirnames, filenames in os.walk('H:\\\\Sensorimotor_RT_7-16-2015\\\\MEG_Subject7\\\\'):\n",
    "    for filename in fnmatch.filter(filenames, '*.txt'):\n",
    "        txtfiles.append(os.path.join(root, filename))\n",
    "##print txtfiles"
   ]
  },
  {
   "cell_type": "code",
   "execution_count": 39,
   "metadata": {
    "collapsed": false
   },
   "outputs": [],
   "source": [
    "heardCount = []\n",
    "missedCount = []\n",
    "for txtfile in txtfiles:\n",
    "    datafile = open(txtfile,'r')\n",
    "    data = datafile.read()\n",
    "    numHeard = data.count('heard')\n",
    "    numMissed = data.count('missed')\n",
    "    \n",
    "    heardCount.append(numHeard)\n",
    "    missedCount.append(numMissed)\n",
    "sumHeard = sum(heardCount)\n",
    "sumCount =  sum(missedCount)\n",
    "    "
   ]
  },
  {
   "cell_type": "code",
   "execution_count": 40,
   "metadata": {
    "collapsed": false
   },
   "outputs": [
    {
     "name": "stdout",
     "output_type": "stream",
     "text": [
      "0.56043956044\n"
     ]
    }
   ],
   "source": [
    "print float(sumHeard)/(sumCount+sumHeard)"
   ]
  },
  {
   "cell_type": "code",
   "execution_count": null,
   "metadata": {
    "collapsed": true
   },
   "outputs": [],
   "source": []
  }
 ],
 "metadata": {
  "kernelspec": {
   "display_name": "Python 2",
   "language": "python",
   "name": "python2"
  },
  "language_info": {
   "codemirror_mode": {
    "name": "ipython",
    "version": 2
   },
   "file_extension": ".py",
   "mimetype": "text/x-python",
   "name": "python",
   "nbconvert_exporter": "python",
   "pygments_lexer": "ipython2",
   "version": "2.7.9"
  }
 },
 "nbformat": 4,
 "nbformat_minor": 0
}
